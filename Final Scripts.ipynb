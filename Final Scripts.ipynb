{
 "cells": [
  {
   "cell_type": "code",
   "execution_count": 169,
   "metadata": {
    "collapsed": true
   },
   "outputs": [],
   "source": [
    "import pandas as pd"
   ]
  },
  {
   "cell_type": "code",
   "execution_count": 246,
   "metadata": {
    "collapsed": false
   },
   "outputs": [
    {
     "name": "stdout",
     "output_type": "stream",
     "text": [
      " Volume in drive C is Windows\n",
      " Volume Serial Number is 1255-3BEE\n",
      "\n",
      " Directory of C:\\Users\\Sneha Krishnan\\Downloads\\final data source prep\n",
      "\n",
      "05/19/2017  11:37 PM            24,302 All_Deaths_Tabbleau.csv\n",
      "05/19/2017  11:16 PM             2,750 CA_All Firearm_deaths_1981_1998.csv\n",
      "05/19/2017  11:11 PM             2,599 CA_All Firearm_deaths_1999_2015.csv\n",
      "05/20/2017  12:00 AM               540 CA_Unemployment_Rate.csv\n",
      "05/19/2017  08:10 PM             2,986 CA_unintentional_firearms_deaths_1981_1998.csv\n",
      "05/19/2017  07:57 PM             2,827 CA_unintentional_firearms_deaths_1999_2015.csv\n",
      "05/19/2017  10:45 PM             3,086 CA_violence related_firearm_deaths_1981_1998.csv\n",
      "05/19/2017  10:50 PM             2,922 CA_violence related_firearm_deaths_1999_2015.csv\n",
      "05/19/2017  11:16 PM             2,728 MI_All Firearm_deaths_1981_1998.csv\n",
      "05/19/2017  11:10 PM             2,591 MI_All Firearm_deaths_1999_2015.csv\n",
      "05/19/2017  08:11 PM             2,967 MI_unintentional_firearms_deaths_1981_1998.csv\n",
      "05/19/2017  08:14 PM             2,215 MI_unintentional_firearms_deaths_1999_2015.csv\n",
      "05/19/2017  10:46 PM             3,065 MI_violence related_firearm_deaths_1981_1998.csv\n",
      "05/19/2017  10:52 PM             2,918 MI_violence related_firearm_deaths_1999_2015.csv\n",
      "05/20/2017  12:02 AM               541 MS_Unemployment_Rate.csv\n",
      "05/19/2017  11:17 PM             2,704 NY_All Firearm_deaths_1981_1998.csv\n",
      "05/19/2017  11:13 PM             2,549 NY_All Firearm_deaths_1999_2015.csv\n",
      "05/20/2017  12:01 AM               535 NY_Unemployment_Rate.csv\n",
      "05/19/2017  08:12 PM             2,932 NY_unintentional_firearms_deaths_1981_1998.csv\n",
      "05/19/2017  08:15 PM             1,639 NY_unintentional_firearms_deaths_1999_2015.csv\n",
      "05/19/2017  10:43 PM             3,033 NY_violence related_firearms_deaths_1981_1998.csv\n",
      "05/19/2017  10:51 PM             2,870 NY_violence related_firearms_deaths_1999_2015.csv\n",
      "05/19/2017  11:15 PM             2,729 US_All Firearm_deaths_1981_1998.csv\n",
      "05/19/2017  11:12 PM             2,598 US_All Firearm_deaths_1999_2015.csv\n",
      "05/19/2017  08:09 PM             2,957 US_consolidated_unintentional_firearms_deaths_1981_1998.csv\n",
      "05/19/2017  08:07 PM             2,793 US_consolidated_unintentional_firearms_deaths_1999_2015.csv\n",
      "05/19/2017  10:48 PM             3,053 US_consolidated_violence related_firearms_deaths_1981_1998.csv\n",
      "05/19/2017  10:49 PM             2,895 US_consolidated_violence related_firearms_deaths_1999_2015.csv\n",
      "05/20/2017  12:05 AM               537 US_Unemplpyment_Rate.csv\n",
      "              29 File(s)         92,861 bytes\n",
      "               0 Dir(s)  30,290,288,640 bytes free\n"
     ]
    }
   ],
   "source": [
    "! dir *.csv"
   ]
  },
  {
   "cell_type": "code",
   "execution_count": 378,
   "metadata": {
    "collapsed": true
   },
   "outputs": [],
   "source": [
    "ca_u_data1 = pd.read_csv('CA_unintentional_firearms_deaths_1981_1998.csv')\n",
    "ca_u_data2 = pd.read_csv('CA_unintentional_firearms_deaths_1999_2015.csv')\n",
    "ny_u_data1 = pd.read_csv('NY_unintentional_firearms_deaths_1981_1998.csv')\n",
    "ny_u_data2 = pd.read_csv('NY_unintentional_firearms_deaths_1999_2015.csv')\n",
    "us_u_data1 = pd.read_csv('US_consolidated_unintentional_firearms_deaths_1981_1998.csv')\n",
    "us_u_data2 = pd.read_csv('US_consolidated_unintentional_firearms_deaths_1999_2015.csv')\n",
    "mi_u_data1 = pd.read_csv('MI_unintentional_firearms_deaths_1981_1998.csv')\n",
    "mi_u_data2 = pd.read_csv('MI_unintentional_firearms_deaths_1999_2015.csv')"
   ]
  },
  {
   "cell_type": "code",
   "execution_count": 379,
   "metadata": {
    "collapsed": true
   },
   "outputs": [],
   "source": [
    "ca_vr_data1 = pd.read_csv('CA_violence related_firearm_deaths_1981_1998.csv')\n",
    "ca_vr_data2 = pd.read_csv('CA_violence related_firearm_deaths_1999_2015.csv')\n",
    "ny_vr_data1 = pd.read_csv('NY_violence related_firearms_deaths_1981_1998.csv')\n",
    "ny_vr_data2 = pd.read_csv('NY_violence related_firearms_deaths_1999_2015.csv')\n",
    "us_vr_data1 = pd.read_csv('US_consolidated_violence related_firearms_deaths_1981_1998.csv')\n",
    "us_vr_data2 = pd.read_csv('US_consolidated_violence related_firearms_deaths_1999_2015.csv')\n",
    "mi_vr_data1 = pd.read_csv('MI_violence related_firearm_deaths_1981_1998.csv')\n",
    "mi_vr_data2 = pd.read_csv('MI_violence related_firearm_deaths_1999_2015.csv')"
   ]
  },
  {
   "cell_type": "code",
   "execution_count": 380,
   "metadata": {
    "collapsed": true
   },
   "outputs": [],
   "source": [
    "ca_ai_data1 = pd.read_csv('CA_All Firearm_deaths_1981_1998.csv')\n",
    "ca_ai_data2 = pd.read_csv('CA_All Firearm_deaths_1999_2015.csv')\n",
    "ny_ai_data1 = pd.read_csv('NY_All Firearm_deaths_1981_1998.csv')\n",
    "ny_ai_data2 = pd.read_csv('NY_All Firearm_deaths_1999_2015.csv')\n",
    "us_ai_data1 = pd.read_csv('US_All Firearm_deaths_1981_1998.csv')\n",
    "us_ai_data2 = pd.read_csv('US_All Firearm_deaths_1999_2015.csv')\n",
    "mi_ai_data1 = pd.read_csv('MI_All Firearm_deaths_1981_1998.csv')\n",
    "mi_ai_data2 = pd.read_csv('MI_All Firearm_deaths_1999_2015.csv')"
   ]
  },
  {
   "cell_type": "code",
   "execution_count": 381,
   "metadata": {
    "collapsed": false
   },
   "outputs": [],
   "source": [
    "ca_u_data1 = ca_u_data1.dropna(subset=['Year'], how='all')\n",
    "ca_u_data2 = ca_u_data2.dropna(subset=['Year'], how='all')\n",
    "ca_u_data = pd.concat([ca_u_data1,ca_u_data2])\n",
    "ny_u_data1 = ny_u_data1.dropna(subset=['Year'], how='all')\n",
    "ny_u_data2 = ny_u_data2.dropna(subset=['Year'], how='all')\n",
    "ny_u_data = pd.concat([ny_u_data1,ny_u_data2])\n",
    "us_u_data1 = us_u_data1.drop(us_u_data1.index[us_u_data1.Year == 'X'])\n",
    "us_u_data2 = us_u_data2.drop(us_u_data2.index[us_u_data2.Year == 'X'])\n",
    "us_u_data = pd.concat([us_u_data1,us_u_data2])\n",
    "mi_u_data1 = mi_u_data1.dropna(subset=['Year'], how='all')\n",
    "mi_u_data2 = mi_u_data2.dropna(subset=['Year'], how='all')\n",
    "mi_u_data = pd.concat([mi_u_data1,mi_u_data2])"
   ]
  },
  {
   "cell_type": "code",
   "execution_count": 382,
   "metadata": {
    "collapsed": true
   },
   "outputs": [],
   "source": [
    "ca_vr_data1 = ca_vr_data1.dropna(subset=['Year'], how='all')\n",
    "ca_vr_data2 = ca_vr_data2.dropna(subset=['Year'], how='all')\n",
    "ca_vr_data = pd.concat([ca_vr_data1,ca_vr_data2])\n",
    "ny_vr_data1 = ny_vr_data1.dropna(subset=['Year'], how='all')\n",
    "ny_vr_data2 = ny_vr_data2.dropna(subset=['Year'], how='all')\n",
    "ny_vr_data = pd.concat([ny_vr_data1,ny_vr_data2])\n",
    "us_vr_data1 = us_vr_data1.drop(us_vr_data1.index[us_vr_data1.Year == 'X'])\n",
    "us_vr_data2 = us_vr_data2.drop(us_vr_data2.index[us_vr_data2.Year == 'X'])\n",
    "us_vr_data = pd.concat([us_vr_data1,us_vr_data2])\n",
    "mi_vr_data1 = mi_vr_data1.dropna(subset=['Year'], how='all')\n",
    "mi_vr_data2 = mi_vr_data2.dropna(subset=['Year'], how='all')\n",
    "mi_vr_data = pd.concat([mi_vr_data1,mi_vr_data2])"
   ]
  },
  {
   "cell_type": "code",
   "execution_count": 383,
   "metadata": {
    "collapsed": true
   },
   "outputs": [],
   "source": [
    "ca_ur_data = pd.read_csv('CA_Unemployment_Rate.csv')\n",
    "ny_ur_data = pd.read_csv('NY_Unemployment_Rate.csv')\n",
    "ms_ur_data = pd.read_csv('MS_Unemployment_Rate.csv')\n",
    "us_ur_data = pd.read_csv('US_Unemplpyment_Rate.csv')"
   ]
  },
  {
   "cell_type": "code",
   "execution_count": 384,
   "metadata": {
    "collapsed": true
   },
   "outputs": [],
   "source": [
    "ca_ur_data['DATE'] = pd.to_datetime(ca_ur_data['DATE'])\n",
    "ca_ur_data['YEAR'], ca_ur_data['MONTH'] = ca_ur_data['DATE'].dt.year, ca_ur_data['DATE'].dt.month\n",
    "ny_ur_data['DATE'] = pd.to_datetime(ny_ur_data['DATE'])\n",
    "ny_ur_data['YEAR'], ny_ur_data['MONTH'] = ny_ur_data['DATE'].dt.year, ny_ur_data['DATE'].dt.month\n",
    "ms_ur_data['DATE'] = pd.to_datetime(ms_ur_data['DATE'])\n",
    "ms_ur_data['YEAR'], ms_ur_data['MONTH'] = ms_ur_data['DATE'].dt.year, ms_ur_data['DATE'].dt.month\n",
    "us_ur_data['DATE'] = pd.to_datetime(us_ur_data['DATE'])\n",
    "us_ur_data['YEAR'], us_ur_data['MONTH'] = us_ur_data['DATE'].dt.year, us_ur_data['DATE'].dt.month"
   ]
  },
  {
   "cell_type": "code",
   "execution_count": 385,
   "metadata": {
    "collapsed": false
   },
   "outputs": [],
   "source": [
    "ca_ur_data = ca_ur_data[['YEAR','MONTH','CAUR','DATE']]\n",
    "ca_ur_data.columns = ['Year','Month','Unemployment_Rate','Date']\n",
    "ca_ur_data['State'] = 'California'\n",
    "ny_ur_data = ny_ur_data[['YEAR','MONTH','NYUR','DATE']]\n",
    "ny_ur_data.columns = ['Year','Month','Unemployment_Rate','Date']\n",
    "ny_ur_data['State'] = 'New York'\n",
    "ms_ur_data = ms_ur_data[['YEAR','MONTH','MSUR','DATE']]\n",
    "ms_ur_data.columns = ['Year','Month','Unemployment_Rate','Date']\n",
    "ms_ur_data['State'] = 'Mississippi'\n",
    "us_ur_data = us_ur_data[['YEAR','MONTH','UNRATE','DATE']]\n",
    "us_ur_data.columns = ['Year','Month','Unemployment_Rate','Date']\n",
    "us_ur_data['State'] = 'United States'"
   ]
  },
  {
   "cell_type": "code",
   "execution_count": 386,
   "metadata": {
    "collapsed": true
   },
   "outputs": [],
   "source": [
    "ca_ai_data1 = ca_ai_data1.dropna(subset=['Year'], how='all')\n",
    "ca_ai_data2 = ca_ai_data2.dropna(subset=['Year'], how='all')\n",
    "ca_ai_data = pd.concat([ca_ai_data1,ca_ai_data2])\n",
    "ny_ai_data1 = ny_ai_data1.dropna(subset=['Year'], how='all')\n",
    "ny_ai_data2 = ny_ai_data2.dropna(subset=['Year'], how='all')\n",
    "ny_ai_data = pd.concat([ny_ai_data1,ny_ai_data2])\n",
    "us_ai_data1 = us_ai_data1.drop(us_ai_data1.index[us_ai_data1.Year == 'X'])\n",
    "us_ai_data2 = us_ai_data2.drop(us_ai_data2.index[us_ai_data2.Year == 'X'])\n",
    "us_ai_data = pd.concat([us_ai_data1,us_ai_data2])\n",
    "mi_ai_data1 = mi_ai_data1.dropna(subset=['Year'], how='all')\n",
    "mi_ai_data2 = mi_ai_data2.dropna(subset=['Year'], how='all')\n",
    "mi_ai_data = pd.concat([mi_ai_data1,mi_ai_data2])"
   ]
  },
  {
   "cell_type": "code",
   "execution_count": 387,
   "metadata": {
    "collapsed": false
   },
   "outputs": [],
   "source": [
    "mi_u_data.Year = mi_u_data.Year.astype(int)\n",
    "ca_u_data.Year = ca_u_data.Year.astype(int)\n",
    "ny_u_data.Year = ny_u_data.Year.astype(int)\n",
    "us_u_data.Year = us_u_data.Year.astype(int)"
   ]
  },
  {
   "cell_type": "code",
   "execution_count": 388,
   "metadata": {
    "collapsed": true
   },
   "outputs": [],
   "source": [
    "mi_vr_data.Year = mi_vr_data.Year.astype(int)\n",
    "ca_vr_data.Year = ca_vr_data.Year.astype(int)\n",
    "ny_vr_data.Year = ny_vr_data.Year.astype(int)\n",
    "us_vr_data.Year = us_vr_data.Year.astype(int)"
   ]
  },
  {
   "cell_type": "code",
   "execution_count": 389,
   "metadata": {
    "collapsed": true
   },
   "outputs": [],
   "source": [
    "mi_ai_data.Year = mi_ai_data.Year.astype(int)\n",
    "ca_ai_data.Year = ca_ai_data.Year.astype(int)\n",
    "ny_ai_data.Year = ny_ai_data.Year.astype(int)\n",
    "us_ai_data.Year = us_ai_data.Year.astype(int)"
   ]
  },
  {
   "cell_type": "code",
   "execution_count": 390,
   "metadata": {
    "collapsed": false
   },
   "outputs": [],
   "source": [
    "mi_u_data.Year = mi_u_data.Year.astype(str)\n",
    "ca_u_data.Year = ca_u_data.Year.astype(str)\n",
    "ny_u_data.Year = ny_u_data.Year.astype(str)\n",
    "us_u_data.Year = us_u_data.Year.astype(str)"
   ]
  },
  {
   "cell_type": "code",
   "execution_count": 391,
   "metadata": {
    "collapsed": true
   },
   "outputs": [],
   "source": [
    "mi_vr_data.Year = mi_vr_data.Year.astype(str)\n",
    "ca_vr_data.Year = ca_vr_data.Year.astype(str)\n",
    "ny_vr_data.Year = ny_vr_data.Year.astype(str)\n",
    "us_vr_data.Year = us_vr_data.Year.astype(str)"
   ]
  },
  {
   "cell_type": "code",
   "execution_count": 392,
   "metadata": {
    "collapsed": true
   },
   "outputs": [],
   "source": [
    "mi_ai_data.Year = mi_ai_data.Year.astype(str)\n",
    "ca_ai_data.Year = ca_ai_data.Year.astype(str)\n",
    "ny_ai_data.Year = ny_ai_data.Year.astype(str)\n",
    "us_ai_data.Year = us_ai_data.Year.astype(str)"
   ]
  },
  {
   "cell_type": "code",
   "execution_count": 393,
   "metadata": {
    "collapsed": false
   },
   "outputs": [],
   "source": [
    "mi_u_data['Year'] = pd.to_datetime(mi_u_data['Year'])\n",
    "ca_u_data['Year'] = pd.to_datetime(ca_u_data['Year'])\n",
    "ny_u_data['Year'] = pd.to_datetime(ny_u_data['Year'])\n",
    "us_u_data['Year'] = pd.to_datetime(us_u_data['Year'])\n",
    "mi_u_data['Year'] = mi_u_data['Year'].dt.year\n",
    "ca_u_data['Year'] = ca_u_data['Year'].dt.year\n",
    "ny_u_data['Year'] = ny_u_data['Year'].dt.year\n",
    "us_u_data['Year'] = us_u_data['Year'].dt.year"
   ]
  },
  {
   "cell_type": "code",
   "execution_count": 394,
   "metadata": {
    "collapsed": true
   },
   "outputs": [],
   "source": [
    "mi_vr_data['Year'] = pd.to_datetime(mi_vr_data['Year'])\n",
    "ca_vr_data['Year'] = pd.to_datetime(ca_vr_data['Year'])\n",
    "ny_vr_data['Year'] = pd.to_datetime(ny_vr_data['Year'])\n",
    "us_vr_data['Year'] = pd.to_datetime(us_vr_data['Year'])\n",
    "mi_vr_data['Year'] = mi_vr_data['Year'].dt.year\n",
    "ca_vr_data['Year'] = ca_vr_data['Year'].dt.year\n",
    "ny_vr_data['Year'] = ny_vr_data['Year'].dt.year\n",
    "us_vr_data['Year'] = us_vr_data['Year'].dt.year"
   ]
  },
  {
   "cell_type": "code",
   "execution_count": 395,
   "metadata": {
    "collapsed": true
   },
   "outputs": [],
   "source": [
    "mi_ai_data['Year'] = pd.to_datetime(mi_ai_data['Year'])\n",
    "ca_ai_data['Year'] = pd.to_datetime(ca_ai_data['Year'])\n",
    "ny_ai_data['Year'] = pd.to_datetime(ny_ai_data['Year'])\n",
    "us_ai_data['Year'] = pd.to_datetime(us_ai_data['Year'])\n",
    "mi_ai_data['Year'] = mi_ai_data['Year'].dt.year\n",
    "ca_ai_data['Year'] = ca_ai_data['Year'].dt.year\n",
    "ny_ai_data['Year'] = ny_ai_data['Year'].dt.year\n",
    "us_ai_data['Year'] = us_ai_data['Year'].dt.year"
   ]
  },
  {
   "cell_type": "code",
   "execution_count": 396,
   "metadata": {
    "collapsed": false
   },
   "outputs": [],
   "source": [
    "all_u_data = ca_u_data\n",
    "all_u_data = all_u_data.append(mi_u_data,ignore_index = True)\n",
    "all_u_data = all_u_data.append(ny_u_data, ignore_index = True)\n",
    "all_u_data = all_u_data.append(us_u_data,ignore_index = True)"
   ]
  },
  {
   "cell_type": "code",
   "execution_count": 397,
   "metadata": {
    "collapsed": true
   },
   "outputs": [],
   "source": [
    "all_vr_data = ca_vr_data\n",
    "all_vr_data = all_vr_data.append(mi_vr_data,ignore_index = True)\n",
    "all_vr_data = all_vr_data.append(ny_vr_data, ignore_index = True)\n",
    "all_vr_data = all_vr_data.append(us_vr_data,ignore_index = True)"
   ]
  },
  {
   "cell_type": "code",
   "execution_count": 398,
   "metadata": {
    "collapsed": true
   },
   "outputs": [],
   "source": [
    "all_ai_data = ca_ai_data\n",
    "all_ai_data = all_ai_data.append(mi_ai_data,ignore_index = True)\n",
    "all_ai_data = all_ai_data.append(ny_ai_data, ignore_index = True)\n",
    "all_ai_data = all_ai_data.append(us_ai_data,ignore_index = True)"
   ]
  },
  {
   "cell_type": "code",
   "execution_count": 399,
   "metadata": {
    "collapsed": false
   },
   "outputs": [],
   "source": [
    "all_u_data = all_u_data[['State','Year','Deaths','Population','Crude Rate','Cause of Death']]\n",
    "all_u_data.columns = ['State','Year','Deaths','Population','Death Rate','Cause of Death']"
   ]
  },
  {
   "cell_type": "code",
   "execution_count": 400,
   "metadata": {
    "collapsed": true
   },
   "outputs": [],
   "source": [
    "all_vr_data = all_vr_data[['State','Year','Deaths','Population','Crude Rate','Cause of Death']]\n",
    "all_vr_data.columns = ['State','Year','Deaths','Population','Death Rate','Cause of Death']"
   ]
  },
  {
   "cell_type": "code",
   "execution_count": 401,
   "metadata": {
    "collapsed": true
   },
   "outputs": [],
   "source": [
    "all_ai_data = all_ai_data[['State','Year','Deaths','Population','Crude Rate','Cause of Death']]\n",
    "all_ai_data.columns = ['State','Year','Deaths','Population','Death Rate','Cause of Death']"
   ]
  },
  {
   "cell_type": "code",
   "execution_count": 403,
   "metadata": {
    "collapsed": false
   },
   "outputs": [],
   "source": [
    "all_data = all_u_data\n",
    "all_data = all_data.append(all_vr_data,ignore_index = True)\n",
    "all_data = all_data.append(all_ai_data,ignore_index = True)"
   ]
  },
  {
   "cell_type": "code",
   "execution_count": 404,
   "metadata": {
    "collapsed": false
   },
   "outputs": [],
   "source": [
    "ca_vr_data1 = ca_vr_data[['Year','Deaths','Population','Crude Rate','Cause of Death']]\n",
    "ny_vr_data1 = ny_vr_data[['Year','Deaths','Population','Crude Rate','Cause of Death']]\n",
    "mi_vr_data1 = mi_vr_data[['Year','Deaths','Population','Crude Rate','Cause of Death']]\n",
    "us_vr_data1 = us_vr_data[['Year','Deaths','Population','Crude Rate','Cause of Death']]"
   ]
  },
  {
   "cell_type": "code",
   "execution_count": 405,
   "metadata": {
    "collapsed": false
   },
   "outputs": [],
   "source": [
    "ca_unemp_death_data= pd.merge(ca_ur_data, ca_vr_data1, left_on=\"Year\", right_on=\"Year\")\n",
    "ny_unemp_death_data= pd.merge(ny_ur_data, ny_vr_data1, left_on=\"Year\", right_on=\"Year\")\n",
    "ms_unemp_death_data= pd.merge(ms_ur_data, mi_vr_data1, left_on=\"Year\", right_on=\"Year\")\n",
    "us_unemp_death_data= pd.merge(us_ur_data, us_vr_data1, left_on=\"Year\", right_on=\"Year\")"
   ]
  },
  {
   "cell_type": "code",
   "execution_count": 406,
   "metadata": {
    "collapsed": false
   },
   "outputs": [],
   "source": [
    "ca_unemp_death_data = ca_unemp_death_data[['Year','State','Unemployment_Rate','Deaths','Population','Crude Rate']]\n",
    "ny_unemp_death_data = ny_unemp_death_data[['Year','State','Unemployment_Rate','Deaths','Population','Crude Rate']]\n",
    "ms_unemp_death_data = ms_unemp_death_data[['Year','State','Unemployment_Rate','Deaths','Population','Crude Rate']]\n",
    "us_unemp_death_data = us_unemp_death_data[['Year','State','Unemployment_Rate','Deaths','Population','Crude Rate']]"
   ]
  },
  {
   "cell_type": "code",
   "execution_count": 407,
   "metadata": {
    "collapsed": true
   },
   "outputs": [],
   "source": [
    "all_unemp_violent_death_data = ca_unemp_death_data\n",
    "all_unemp_violent_death_data = all_unemp_violent_death_data.append(ny_unemp_death_data, ignore_index = True)\n",
    "all_unemp_violent_death_data = all_unemp_violent_death_data.append(ms_unemp_death_data, ignore_index = True)\n",
    "all_unemp_violent_death_data = all_unemp_violent_death_data.append(us_unemp_death_data, ignore_index = True)\n",
    "all_unemp_violent_death_data.columns = ['Year','State','Unemployment Rate','Deaths','Population','Death Rate']"
   ]
  },
  {
   "cell_type": "code",
   "execution_count": 408,
   "metadata": {
    "collapsed": true
   },
   "outputs": [],
   "source": [
    "all_data.to_csv('All_Deaths_Tabbleau.csv')"
   ]
  },
  {
   "cell_type": "code",
   "execution_count": 409,
   "metadata": {
    "collapsed": true
   },
   "outputs": [],
   "source": [
    "all_unemp_violent_death_data.to_csv('Violent_Firearm Deaths_Unemploymemt_Rate.csv')"
   ]
  },
  {
   "cell_type": "code",
   "execution_count": null,
   "metadata": {
    "collapsed": true
   },
   "outputs": [],
   "source": []
  }
 ],
 "metadata": {
  "kernelspec": {
   "display_name": "Python 3",
   "language": "python",
   "name": "python3"
  },
  "language_info": {
   "codemirror_mode": {
    "name": "ipython",
    "version": 3
   },
   "file_extension": ".py",
   "mimetype": "text/x-python",
   "name": "python",
   "nbconvert_exporter": "python",
   "pygments_lexer": "ipython3",
   "version": "3.6.0"
  }
 },
 "nbformat": 4,
 "nbformat_minor": 2
}
