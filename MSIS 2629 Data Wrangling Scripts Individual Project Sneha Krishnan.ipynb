{
 "cells": [
  {
   "cell_type": "code",
   "execution_count": 26,
   "metadata": {
    "collapsed": true
   },
   "outputs": [],
   "source": [
    "import pandas as pd"
   ]
  },
  {
   "cell_type": "code",
   "execution_count": 27,
   "metadata": {
    "collapsed": false
   },
   "outputs": [
    {
     "name": "stdout",
     "output_type": "stream",
     "text": [
      " Volume in drive C is Windows\n",
      " Volume Serial Number is 1255-3BEE\n",
      "\n",
      " Directory of C:\\Users\\Sneha Krishnan\\Downloads\\Final Individual Project\n",
      "\n",
      "05/19/2017  11:16 PM             2,750 CA_All Firearm_deaths_1981_1998.csv\n",
      "05/19/2017  11:11 PM             2,599 CA_All Firearm_deaths_1999_2015.csv\n",
      "05/19/2017  08:10 PM             2,986 CA_unintentional_firearms_deaths_1981_1998.csv\n",
      "05/19/2017  07:57 PM             2,827 CA_unintentional_firearms_deaths_1999_2015.csv\n",
      "05/19/2017  10:45 PM             3,086 CA_violence related_firearm_deaths_1981_1998.csv\n",
      "05/19/2017  10:50 PM             2,922 CA_violence related_firearm_deaths_1999_2015.csv\n",
      "05/19/2017  11:16 PM             2,728 MI_All Firearm_deaths_1981_1998.csv\n",
      "05/19/2017  11:10 PM             2,591 MI_All Firearm_deaths_1999_2015.csv\n",
      "05/19/2017  08:11 PM             2,967 MI_unintentional_firearms_deaths_1981_1998.csv\n",
      "05/19/2017  08:14 PM             2,215 MI_unintentional_firearms_deaths_1999_2015.csv\n",
      "05/19/2017  10:46 PM             3,065 MI_violence related_firearm_deaths_1981_1998.csv\n",
      "05/19/2017  10:52 PM             2,918 MI_violence related_firearm_deaths_1999_2015.csv\n",
      "05/19/2017  11:17 PM             2,704 NY_All Firearm_deaths_1981_1998.csv\n",
      "05/19/2017  11:13 PM             2,549 NY_All Firearm_deaths_1999_2015.csv\n",
      "05/19/2017  08:12 PM             2,932 NY_unintentional_firearms_deaths_1981_1998.csv\n",
      "05/19/2017  08:15 PM             1,639 NY_unintentional_firearms_deaths_1999_2015.csv\n",
      "05/19/2017  10:43 PM             3,033 NY_violence related_firearms_deaths_1981_1998.csv\n",
      "05/19/2017  10:51 PM             2,870 NY_violence related_firearms_deaths_1999_2015.csv\n",
      "              18 File(s)         49,381 bytes\n",
      "               0 Dir(s)  29,480,099,840 bytes free\n"
     ]
    }
   ],
   "source": [
    "! dir *.csv"
   ]
  },
  {
   "cell_type": "code",
   "execution_count": 28,
   "metadata": {
    "collapsed": true
   },
   "outputs": [],
   "source": [
    "ca_u_data1 = pd.read_csv('CA_unintentional_firearms_deaths_1981_1998.csv')\n",
    "ca_u_data2 = pd.read_csv('CA_unintentional_firearms_deaths_1999_2015.csv')\n",
    "ny_u_data1 = pd.read_csv('NY_unintentional_firearms_deaths_1981_1998.csv')\n",
    "ny_u_data2 = pd.read_csv('NY_unintentional_firearms_deaths_1999_2015.csv')\n",
    "mi_u_data1 = pd.read_csv('MI_unintentional_firearms_deaths_1981_1998.csv')\n",
    "mi_u_data2 = pd.read_csv('MI_unintentional_firearms_deaths_1999_2015.csv')"
   ]
  },
  {
   "cell_type": "code",
   "execution_count": 29,
   "metadata": {
    "collapsed": true
   },
   "outputs": [],
   "source": [
    "ca_vr_data1 = pd.read_csv('CA_violence related_firearm_deaths_1981_1998.csv')\n",
    "ca_vr_data2 = pd.read_csv('CA_violence related_firearm_deaths_1999_2015.csv')\n",
    "ny_vr_data1 = pd.read_csv('NY_violence related_firearms_deaths_1981_1998.csv')\n",
    "ny_vr_data2 = pd.read_csv('NY_violence related_firearms_deaths_1999_2015.csv')\n",
    "mi_vr_data1 = pd.read_csv('MI_violence related_firearm_deaths_1981_1998.csv')\n",
    "mi_vr_data2 = pd.read_csv('MI_violence related_firearm_deaths_1999_2015.csv')"
   ]
  },
  {
   "cell_type": "code",
   "execution_count": 30,
   "metadata": {
    "collapsed": true
   },
   "outputs": [],
   "source": [
    "ca_ai_data1 = pd.read_csv('CA_All Firearm_deaths_1981_1998.csv')\n",
    "ca_ai_data2 = pd.read_csv('CA_All Firearm_deaths_1999_2015.csv')\n",
    "ny_ai_data1 = pd.read_csv('NY_All Firearm_deaths_1981_1998.csv')\n",
    "ny_ai_data2 = pd.read_csv('NY_All Firearm_deaths_1999_2015.csv')\n",
    "mi_ai_data1 = pd.read_csv('MI_All Firearm_deaths_1981_1998.csv')\n",
    "mi_ai_data2 = pd.read_csv('MI_All Firearm_deaths_1999_2015.csv')"
   ]
  },
  {
   "cell_type": "code",
   "execution_count": 31,
   "metadata": {
    "collapsed": false
   },
   "outputs": [],
   "source": [
    "ca_u_data1 = ca_u_data1.dropna(subset=['Year'], how='all')\n",
    "ca_u_data2 = ca_u_data2.dropna(subset=['Year'], how='all')\n",
    "ca_u_data = pd.concat([ca_u_data1,ca_u_data2])\n",
    "ny_u_data1 = ny_u_data1.dropna(subset=['Year'], how='all')\n",
    "ny_u_data2 = ny_u_data2.dropna(subset=['Year'], how='all')\n",
    "ny_u_data = pd.concat([ny_u_data1,ny_u_data2])\n",
    "mi_u_data1 = mi_u_data1.dropna(subset=['Year'], how='all')\n",
    "mi_u_data2 = mi_u_data2.dropna(subset=['Year'], how='all')\n",
    "mi_u_data = pd.concat([mi_u_data1,mi_u_data2])"
   ]
  },
  {
   "cell_type": "code",
   "execution_count": 32,
   "metadata": {
    "collapsed": true
   },
   "outputs": [],
   "source": [
    "ca_vr_data1 = ca_vr_data1.dropna(subset=['Year'], how='all')\n",
    "ca_vr_data2 = ca_vr_data2.dropna(subset=['Year'], how='all')\n",
    "ca_vr_data = pd.concat([ca_vr_data1,ca_vr_data2])\n",
    "ny_vr_data1 = ny_vr_data1.dropna(subset=['Year'], how='all')\n",
    "ny_vr_data2 = ny_vr_data2.dropna(subset=['Year'], how='all')\n",
    "ny_vr_data = pd.concat([ny_vr_data1,ny_vr_data2])\n",
    "mi_vr_data1 = mi_vr_data1.dropna(subset=['Year'], how='all')\n",
    "mi_vr_data2 = mi_vr_data2.dropna(subset=['Year'], how='all')\n",
    "mi_vr_data = pd.concat([mi_vr_data1,mi_vr_data2])"
   ]
  },
  {
   "cell_type": "code",
   "execution_count": 33,
   "metadata": {
    "collapsed": true
   },
   "outputs": [],
   "source": [
    "ca_ai_data1 = ca_ai_data1.dropna(subset=['Year'], how='all')\n",
    "ca_ai_data2 = ca_ai_data2.dropna(subset=['Year'], how='all')\n",
    "ca_ai_data = pd.concat([ca_ai_data1,ca_ai_data2])\n",
    "ny_ai_data1 = ny_ai_data1.dropna(subset=['Year'], how='all')\n",
    "ny_ai_data2 = ny_ai_data2.dropna(subset=['Year'], how='all')\n",
    "ny_ai_data = pd.concat([ny_ai_data1,ny_ai_data2])\n",
    "mi_ai_data1 = mi_ai_data1.dropna(subset=['Year'], how='all')\n",
    "mi_ai_data2 = mi_ai_data2.dropna(subset=['Year'], how='all')\n",
    "mi_ai_data = pd.concat([mi_ai_data1,mi_ai_data2])"
   ]
  },
  {
   "cell_type": "code",
   "execution_count": 34,
   "metadata": {
    "collapsed": false
   },
   "outputs": [],
   "source": [
    "mi_u_data.Year = mi_u_data.Year.astype(int)\n",
    "ca_u_data.Year = ca_u_data.Year.astype(int)\n",
    "ny_u_data.Year = ny_u_data.Year.astype(int)"
   ]
  },
  {
   "cell_type": "code",
   "execution_count": 35,
   "metadata": {
    "collapsed": true
   },
   "outputs": [],
   "source": [
    "mi_vr_data.Year = mi_vr_data.Year.astype(int)\n",
    "ca_vr_data.Year = ca_vr_data.Year.astype(int)\n",
    "ny_vr_data.Year = ny_vr_data.Year.astype(int)"
   ]
  },
  {
   "cell_type": "code",
   "execution_count": 36,
   "metadata": {
    "collapsed": true
   },
   "outputs": [],
   "source": [
    "mi_ai_data.Year = mi_ai_data.Year.astype(int)\n",
    "ca_ai_data.Year = ca_ai_data.Year.astype(int)\n",
    "ny_ai_data.Year = ny_ai_data.Year.astype(int)"
   ]
  },
  {
   "cell_type": "code",
   "execution_count": 37,
   "metadata": {
    "collapsed": false
   },
   "outputs": [],
   "source": [
    "mi_u_data.Year = mi_u_data.Year.astype(str)\n",
    "ca_u_data.Year = ca_u_data.Year.astype(str)\n",
    "ny_u_data.Year = ny_u_data.Year.astype(str)"
   ]
  },
  {
   "cell_type": "code",
   "execution_count": 38,
   "metadata": {
    "collapsed": true
   },
   "outputs": [],
   "source": [
    "mi_vr_data.Year = mi_vr_data.Year.astype(str)\n",
    "ca_vr_data.Year = ca_vr_data.Year.astype(str)\n",
    "ny_vr_data.Year = ny_vr_data.Year.astype(str)"
   ]
  },
  {
   "cell_type": "code",
   "execution_count": 39,
   "metadata": {
    "collapsed": true
   },
   "outputs": [],
   "source": [
    "mi_ai_data.Year = mi_ai_data.Year.astype(str)\n",
    "ca_ai_data.Year = ca_ai_data.Year.astype(str)\n",
    "ny_ai_data.Year = ny_ai_data.Year.astype(str)"
   ]
  },
  {
   "cell_type": "code",
   "execution_count": 40,
   "metadata": {
    "collapsed": false
   },
   "outputs": [],
   "source": [
    "mi_u_data['Year'] = pd.to_datetime(mi_u_data['Year'])\n",
    "ca_u_data['Year'] = pd.to_datetime(ca_u_data['Year'])\n",
    "ny_u_data['Year'] = pd.to_datetime(ny_u_data['Year'])\n",
    "mi_u_data['Year'] = mi_u_data['Year'].dt.year\n",
    "ca_u_data['Year'] = ca_u_data['Year'].dt.year\n",
    "ny_u_data['Year'] = ny_u_data['Year'].dt.year"
   ]
  },
  {
   "cell_type": "code",
   "execution_count": 41,
   "metadata": {
    "collapsed": true
   },
   "outputs": [],
   "source": [
    "mi_vr_data['Year'] = pd.to_datetime(mi_vr_data['Year'])\n",
    "ca_vr_data['Year'] = pd.to_datetime(ca_vr_data['Year'])\n",
    "ny_vr_data['Year'] = pd.to_datetime(ny_vr_data['Year'])\n",
    "mi_vr_data['Year'] = mi_vr_data['Year'].dt.year\n",
    "ca_vr_data['Year'] = ca_vr_data['Year'].dt.year\n",
    "ny_vr_data['Year'] = ny_vr_data['Year'].dt.year"
   ]
  },
  {
   "cell_type": "code",
   "execution_count": 42,
   "metadata": {
    "collapsed": true
   },
   "outputs": [],
   "source": [
    "mi_ai_data['Year'] = pd.to_datetime(mi_ai_data['Year'])\n",
    "ca_ai_data['Year'] = pd.to_datetime(ca_ai_data['Year'])\n",
    "ny_ai_data['Year'] = pd.to_datetime(ny_ai_data['Year'])\n",
    "mi_ai_data['Year'] = mi_ai_data['Year'].dt.year\n",
    "ca_ai_data['Year'] = ca_ai_data['Year'].dt.year\n",
    "ny_ai_data['Year'] = ny_ai_data['Year'].dt.year"
   ]
  },
  {
   "cell_type": "code",
   "execution_count": 43,
   "metadata": {
    "collapsed": false
   },
   "outputs": [],
   "source": [
    "all_u_data = ca_u_data\n",
    "all_u_data = all_u_data.append(mi_u_data,ignore_index = True)\n",
    "all_u_data = all_u_data.append(ny_u_data, ignore_index = True)"
   ]
  },
  {
   "cell_type": "code",
   "execution_count": 44,
   "metadata": {
    "collapsed": true
   },
   "outputs": [],
   "source": [
    "all_vr_data = ca_vr_data\n",
    "all_vr_data = all_vr_data.append(mi_vr_data,ignore_index = True)\n",
    "all_vr_data = all_vr_data.append(ny_vr_data, ignore_index = True)"
   ]
  },
  {
   "cell_type": "code",
   "execution_count": 45,
   "metadata": {
    "collapsed": true
   },
   "outputs": [],
   "source": [
    "all_ai_data = ca_ai_data\n",
    "all_ai_data = all_ai_data.append(mi_ai_data,ignore_index = True)\n",
    "all_ai_data = all_ai_data.append(ny_ai_data, ignore_index = True)"
   ]
  },
  {
   "cell_type": "code",
   "execution_count": 46,
   "metadata": {
    "collapsed": false
   },
   "outputs": [],
   "source": [
    "all_u_data = all_u_data[['State','Year','Deaths','Population','Crude Rate','Cause of Death']]\n",
    "all_u_data.columns = ['State','Year','Deaths','Population','Death Rate','Cause of Death']"
   ]
  },
  {
   "cell_type": "code",
   "execution_count": 47,
   "metadata": {
    "collapsed": true
   },
   "outputs": [],
   "source": [
    "all_vr_data = all_vr_data[['State','Year','Deaths','Population','Crude Rate','Cause of Death']]\n",
    "all_vr_data.columns = ['State','Year','Deaths','Population','Death Rate','Cause of Death']"
   ]
  },
  {
   "cell_type": "code",
   "execution_count": 48,
   "metadata": {
    "collapsed": true
   },
   "outputs": [],
   "source": [
    "all_ai_data = all_ai_data[['State','Year','Deaths','Population','Crude Rate','Cause of Death']]\n",
    "all_ai_data.columns = ['State','Year','Deaths','Population','Death Rate','Cause of Death']"
   ]
  },
  {
   "cell_type": "code",
   "execution_count": 49,
   "metadata": {
    "collapsed": false
   },
   "outputs": [],
   "source": [
    "all_data = all_u_data\n",
    "all_data = all_data.append(all_vr_data,ignore_index = True)\n",
    "all_data = all_data.append(all_ai_data,ignore_index = True)"
   ]
  },
  {
   "cell_type": "code",
   "execution_count": 50,
   "metadata": {
    "collapsed": true
   },
   "outputs": [],
   "source": [
    "all_data.to_csv('All_Firearm_Deaths_Tableau.csv')"
   ]
  },
  {
   "cell_type": "code",
   "execution_count": null,
   "metadata": {
    "collapsed": true
   },
   "outputs": [],
   "source": []
  }
 ],
 "metadata": {
  "kernelspec": {
   "display_name": "Python 3",
   "language": "python",
   "name": "python3"
  },
  "language_info": {
   "codemirror_mode": {
    "name": "ipython",
    "version": 3
   },
   "file_extension": ".py",
   "mimetype": "text/x-python",
   "name": "python",
   "nbconvert_exporter": "python",
   "pygments_lexer": "ipython3",
   "version": "3.6.0"
  }
 },
 "nbformat": 4,
 "nbformat_minor": 2
}
